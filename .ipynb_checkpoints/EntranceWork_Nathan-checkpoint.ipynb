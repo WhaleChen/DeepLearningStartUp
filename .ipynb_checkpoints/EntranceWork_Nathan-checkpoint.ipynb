{
 "cells": [
  {
   "cell_type": "markdown",
   "metadata": {},
   "source": [
    "## Entrance-work 入学作业"
   ]
  },
  {
   "cell_type": "code",
   "execution_count": 2,
   "metadata": {
    "collapsed": false
   },
   "outputs": [],
   "source": [
    "# 这里使用环境 python 环境 anaconda3-4.0.0"
   ]
  },
  {
   "cell_type": "markdown",
   "metadata": {},
   "source": [
    "1. 使用 Python 统计这篇 文章 出现频率最高的前 10 个「二元词组」，并输出它们的频率。「二元词组」即文章中所有接连出现的两个词，如「今天 天气 不错」有「今天 天气」，「天气 不错」两个「二元词组」。"
   ]
  },
  {
   "cell_type": "code",
   "execution_count": 1,
   "metadata": {
    "collapsed": false
   },
   "outputs": [],
   "source": [
    "# 打开文件，读取文件\n",
    "with open('./happiness_seg.txt') as f:\n",
    "    file = f.read()\n"
   ]
  },
  {
   "cell_type": "code",
   "execution_count": 2,
   "metadata": {
    "collapsed": false
   },
   "outputs": [],
   "source": [
    "import collections\n",
    "\n",
    "filelist = file.split()\n",
    "filelist2 = list()\n",
    "for i in range(len(filelist)-1):\n",
    "    #定义每个独立的词即为 长度需要至少为2的词\n",
    "    #当然，这可能是一种过度的简化\n",
    "    #这样的好处是对于标点符号也自然被去除 \n",
    "    if (len(filelist[i]) > 1 and len(filelist[i+1]) > 1):\n",
    "        filelist2.append(filelist[i] +\" \"+ filelist[i+1])\n",
    "#使用 Counter函数，便于统计\n",
    "frequency = collections.Counter(filelist2)\n",
    "\n"
   ]
  },
  {
   "cell_type": "code",
   "execution_count": 3,
   "metadata": {
    "collapsed": false
   },
   "outputs": [
    {
     "data": {
      "text/plain": [
       "[('这种 情况', 77),\n",
       " ('没有 什么', 70),\n",
       " ('这个 问题', 57),\n",
       " ('因为 他们', 55),\n",
       " ('如果 我们', 50),\n",
       " ('所有 这些', 47),\n",
       " ('这种 观点', 46),\n",
       " ('这个 世界', 40),\n",
       " ('他们 自己', 38),\n",
       " ('我们 可以', 37)]"
      ]
     },
     "execution_count": 3,
     "metadata": {},
     "output_type": "execute_result"
    }
   ],
   "source": [
    "frequency.most_common(10)"
   ]
  },
  {
   "cell_type": "markdown",
   "metadata": {},
   "source": [
    "- Fork 本仓库，将上述成果同步至 Fork 后的 GitHub 个人仓库。建议你使用 Git 命令同步。（已经做好）"
   ]
  },
  {
   "cell_type": "markdown",
   "metadata": {},
   "source": [
    "- 求解以下函数相对 x 的导数：\n",
    "$$x=Sin(x^2)x$$"
   ]
  },
  {
   "cell_type": "code",
   "execution_count": 4,
   "metadata": {
    "collapsed": false
   },
   "outputs": [
    {
     "data": {
      "text/plain": [
       "2*x**2*cos(x**2) + sin(x**2)"
      ]
     },
     "execution_count": 4,
     "metadata": {},
     "output_type": "execute_result"
    }
   ],
   "source": [
    "import sympy as sp\n",
    "\n",
    "# 将x 符号化\n",
    "x = sp.Symbol('x')\n",
    "# 定义 f(x)\n",
    "f = sp.sin(x**2)*x\n",
    "# 使用 diff 求导\n",
    "result = sp.diff(f,x);result\n"
   ]
  },
  {
   "cell_type": "markdown",
   "metadata": {},
   "source": [
    "所以求导结果为 $$ 2x^2cos(x^2) + sin(x^2) $$"
   ]
  },
  {
   "cell_type": "markdown",
   "metadata": {},
   "source": [
    "- 向量化 (vectorization) 计算是科学计算中必备的技巧。调研 Python 的 numpy 库中「向量化」的概念。熟悉概念之后，使用标准正态分布生成一个 100 元素的数组（以 0 为均值），用向量化方法将这个数组中 < 0 的元素设置成 0 。"
   ]
  },
  {
   "cell_type": "code",
   "execution_count": 5,
   "metadata": {
    "collapsed": false
   },
   "outputs": [],
   "source": [
    "import numpy as np\n",
    "#生成正态分布数组\n",
    "data = np.random.normal(size=100)\n",
    "#获得判断数组数值是否符合<0 条件的布尔数组\n",
    "mask = data <0\n"
   ]
  },
  {
   "cell_type": "code",
   "execution_count": 6,
   "metadata": {
    "collapsed": false
   },
   "outputs": [
    {
     "data": {
      "text/plain": [
       "array([ 0.76654981,  0.        ,  0.        ,  0.        ,  1.14880025,\n",
       "        0.        ,  1.32240754,  0.        ,  0.88041315,  0.        ,\n",
       "        0.37514996,  0.        ,  0.95394301,  0.        ,  0.53842345,\n",
       "        0.4745407 ,  2.26120147,  0.        ,  0.        ,  0.        ,\n",
       "        0.02561294,  1.50627412,  0.        ,  0.        ,  0.43202097,\n",
       "        1.26930918,  0.23531637,  0.04245645,  0.        ,  0.4840816 ,\n",
       "        0.39899421,  1.10491613,  0.80748234,  0.19814588,  0.58011034,\n",
       "        0.        ,  0.        ,  1.52492876,  1.26290947,  0.98127203,\n",
       "        0.        ,  2.01592256,  1.14636922,  0.        ,  0.61541339,\n",
       "        0.        ,  0.        ,  0.89952397,  0.        ,  0.        ,\n",
       "        1.33591809,  0.        ,  0.        ,  0.        ,  1.14682003,\n",
       "        0.        ,  1.99344597,  0.        ,  0.32834657,  0.        ,\n",
       "        0.        ,  0.40350271,  0.        ,  0.77986085,  0.35850274,\n",
       "        0.        ,  0.        ,  0.        ,  0.        ,  0.6346866 ,\n",
       "        1.56604386,  0.        ,  0.        ,  0.        ,  0.        ,\n",
       "        2.37605477,  0.        ,  0.        ,  0.        ,  0.29362943,\n",
       "        0.        ,  1.07107311,  0.        ,  1.04507716,  0.7894953 ,\n",
       "        0.23739258,  0.        ,  0.        ,  0.        ,  3.03855228,\n",
       "        0.66700932,  0.        ,  0.09973772,  0.17068805,  0.        ,\n",
       "        0.        ,  0.41463494,  0.        ,  0.59127155,  0.1847381 ])"
      ]
     },
     "execution_count": 6,
     "metadata": {},
     "output_type": "execute_result"
    }
   ],
   "source": [
    "# 将布尔数组作为索引 向量化赋值。显示结果\n",
    "data[mask] =0;data"
   ]
  },
  {
   "cell_type": "markdown",
   "metadata": {},
   "source": [
    "### 展望\n",
    "- 期待和大家一起向前，同侪学习，其乐无穷~"
   ]
  },
  {
   "cell_type": "code",
   "execution_count": null,
   "metadata": {
    "collapsed": true
   },
   "outputs": [],
   "source": []
  }
 ],
 "metadata": {
  "kernelspec": {
   "display_name": "Python 3",
   "language": "python",
   "name": "python3"
  },
  "language_info": {
   "codemirror_mode": {
    "name": "ipython",
    "version": 3
   },
   "file_extension": ".py",
   "mimetype": "text/x-python",
   "name": "python",
   "nbconvert_exporter": "python",
   "pygments_lexer": "ipython3",
   "version": "3.5.2"
  }
 },
 "nbformat": 4,
 "nbformat_minor": 0
}
